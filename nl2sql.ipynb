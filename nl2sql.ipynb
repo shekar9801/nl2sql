{
 "cells": [
  {
   "cell_type": "code",
   "execution_count": 1,
   "id": "4d2f998e",
   "metadata": {},
   "outputs": [
    {
     "name": "stdout",
     "output_type": "stream",
     "text": [
      "CREATE TABLE Users (\n",
      "    user_id INT PRIMARY KEY AUTO_INCREMENT,\n",
      "    name VARCHAR(100) NOT NULL,\n",
      "    email VARCHAR(100) UNIQUE NOT NULL,\n",
      "    phone VARCHAR(15),\n",
      "    created_at TIMESTAMP DEFAULT CURRENT_TIMESTAMP\n",
      ");\n",
      "\n",
      "CREATE TABLE Products (\n",
      "    product_id INT PRIMARY KEY AUTO_INCREMENT,\n",
      "    name VARCHAR(150) NOT NULL,\n",
      "    description TEXT,\n",
      "    price DECIMAL(10,2) NOT NULL,\n",
      "    stock INT DEFAULT 0,\n",
      "    created_at TIMESTAMP DEFAULT CURRENT_TIMESTAMP\n",
      ");\n",
      "\n",
      "CREATE TABLE Orders (\n",
      "    order_id INT PRIMARY KEY AUTO_INCREMENT,\n",
      "    user_id INT NOT NULL,\n",
      "    order_date TIMESTAMP DEFAULT CURRENT_TIMESTAMP,\n",
      "    total_amount DECIMAL(10,2) NOT NULL,\n",
      "    status VARCHAR(20) DEFAULT 'Pending',\n",
      "    FOREIGN KEY (user_id) REFERENCES Users(user_id)\n",
      ");\n",
      "\n",
      "CREATE TABLE OrderItems (\n",
      "    order_item_id INT PRIMARY KEY AUTO_INCREMENT,\n",
      "    order_id INT NOT NULL,\n",
      "    product_id INT NOT NULL,\n",
      "    quantity INT NOT NULL,\n",
      "    price DECIMAL(10,2) NOT NULL,\n",
      "    FOREIGN KEY (order_id) REFERENCES Orders(order_id),\n",
      "    FOREIGN KEY (product_id) REFERENCES Products(product_id)\n",
      ");\n",
      "\n",
      "CREATE TABLE Payments (\n",
      "    payment_id INT PRIMARY KEY AUTO_INCREMENT,\n",
      "    order_id INT NOT NULL,\n",
      "    amount DECIMAL(10,2) NOT NULL,\n",
      "    payment_method VARCHAR(50),\n",
      "    payment_date TIMESTAMP DEFAULT CURRENT_TIMESTAMP,\n",
      "    FOREIGN KEY (order_id) REFERENCES Orders(order_id)\n",
      ");\n"
     ]
    }
   ],
   "source": [
    "with open(\"schema.txt\", \"r\") as file:\n",
    "    schema = file.read()\n",
    "print(schema)"
   ]
  },
  {
   "cell_type": "code",
   "execution_count": 2,
   "id": "9303dcb8",
   "metadata": {},
   "outputs": [],
   "source": [
    "from langchain_ollama import ChatOllama\n",
    "llm = ChatOllama(model=\"llama3.2:latest\", temperature=0.1, max_tokens=512)\n"
   ]
  },
  {
   "cell_type": "code",
   "execution_count": null,
   "id": "6376c9af",
   "metadata": {},
   "outputs": [],
   "source": [
    "from langchain.prompts import PromptTemplate\n",
    "\n",
    "template = PromptTemplate(\n",
    "    input_variables=[\"schema\", \"dialect\", \"input\"],\n",
    "    template=\"\"\"You are a SQL expert. \n",
    "    Generate a valid {dialect} SQL query for the following request:\n",
    "    Question: {input}\n",
    "\n",
    "    Schema:\n",
    "    {schema}\n",
    "\n",
    "    Rules:\n",
    "    - Output ONLY the SQL query (no explanation, no comments, no extra text).\n",
    "    - Use explicit column names (never use SELECT *).\n",
    "    - Ensure the query is syntactically correct for {dialect}.\n",
    "    - Do not include markdown formatting, quotes, or backticks.\n",
    "\n",
    "    Final Output:\n",
    "    \"\"\"\n",
    ")"
   ]
  },
  {
   "cell_type": "code",
   "execution_count": 4,
   "id": "4094d08f",
   "metadata": {},
   "outputs": [
    {
     "name": "stdout",
     "output_type": "stream",
     "text": [
      "SELECT COUNT(DISTINCT user_id) FROM Users;\n"
     ]
    }
   ],
   "source": [
    "prompt = template.format(dialect=\"MySQL\",schema=schema,input=\"how many user do we have?\")\n",
    "result = llm.invoke(prompt)\n",
    "print(result.content)"
   ]
  },
  {
   "cell_type": "code",
   "execution_count": 5,
   "id": "ff5a68b5",
   "metadata": {},
   "outputs": [
    {
     "name": "stdout",
     "output_type": "stream",
     "text": [
      "SELECT o.user_id, u.name FROM Orders o JOIN Users u ON o.user_id = u.user_id\n"
     ]
    }
   ],
   "source": [
    "prompt = template.format(dialect=\"MySQL\",schema=schema, input=\"List all orders with the customer’s name?\")\n",
    "result = llm.invoke(prompt)\n",
    "print(result.content)"
   ]
  },
  {
   "cell_type": "code",
   "execution_count": 6,
   "id": "d3c7714a",
   "metadata": {},
   "outputs": [
    {
     "name": "stdout",
     "output_type": "stream",
     "text": [
      "('SELECT o.order_id, p.name, oi.quantity \\n'\n",
      " 'FROM Orders o \\n'\n",
      " 'JOIN OrderItems oi ON o.order_id = oi.order_id \\n'\n",
      " 'JOIN Products p ON oi.product_id = p.product_id \\n'\n",
      " 'WHERE o.user_id = ?;')\n"
     ]
    }
   ],
   "source": [
    "from pprint import pprint\n",
    "prompt = template.format(dialect=\"MySQL\",\n",
    "                         schema=schema, \n",
    "                         input=\"Find all products purchased in a specific order?.\")\n",
    "result = llm.invoke(prompt)\n",
    "pprint(result.content)"
   ]
  },
  {
   "cell_type": "code",
   "execution_count": 7,
   "id": "5f97dccb",
   "metadata": {},
   "outputs": [
    {
     "name": "stdout",
     "output_type": "stream",
     "text": [
      "SELECT u.name, COUNT(o.order_id) AS num_orders \n",
      "FROM Users u\n",
      "JOIN Orders o ON u.user_id = o.user_id\n",
      "GROUP BY u.user_id\n",
      "HAVING COUNT(DISTINCT o.order_id) > 3\n"
     ]
    }
   ],
   "source": [
    "prompt = template.format(dialect=\"MySQL\",schema=schema, input=\"Get all users who purchased more than 3 products in a single order.\")\n",
    "result = llm.invoke(prompt)\n",
    "print(result.content)"
   ]
  },
  {
   "cell_type": "code",
   "execution_count": 8,
   "id": "8761162a",
   "metadata": {},
   "outputs": [
    {
     "name": "stdout",
     "output_type": "stream",
     "text": [
      "SELECT AVG(oi.price) AS average_order_value FROM OrderItems oi JOIN Orders o ON oi.order_id = o.order_id JOIN Users u ON o.user_id = u.user_id GROUP BY u.user_id\n"
     ]
    }
   ],
   "source": [
    "prompt = template.format(dialect=\"MySQL\",schema=schema, input=\"Find the average order value for each user.\")\n",
    "result = llm.invoke(prompt)\n",
    "print(result.content)"
   ]
  },
  {
   "cell_type": "code",
   "execution_count": 11,
   "id": "b68d05c6",
   "metadata": {},
   "outputs": [
    {
     "name": "stdout",
     "output_type": "stream",
     "text": [
      "SELECT o.order_id, o.user_id, COUNT(DISTINCT p.payment_id) as num_payments\n",
      "FROM Orders o\n",
      "JOIN Payments p ON o.order_id = p.order_id\n",
      "GROUP BY o.order_id, o.user_id\n",
      "HAVING COUNT(DISTINCT p.payment_id) > 1\n"
     ]
    }
   ],
   "source": [
    "prompt = template.format(dialect=\"MySQL\",schema=schema, input=\"Show orders with more than one payment.\")\n",
    "result = llm.invoke(prompt)\n",
    "print(result.content)"
   ]
  },
  {
   "cell_type": "code",
   "execution_count": 12,
   "id": "f4842cf1",
   "metadata": {},
   "outputs": [
    {
     "name": "stdout",
     "output_type": "stream",
     "text": [
      "SELECT p.name, COUNT(DISTINCT u.user_id) FROM Products p JOIN OrderItems oi ON p.product_id = oi.product_id JOIN Orders o ON oi.order_id = o.order_id JOIN Users u ON o.user_id = u.user_id GROUP BY p.name\n"
     ]
    }
   ],
   "source": [
    "prompt = template.format(dialect=\"MySQL\",schema=schema, input=\"Get all products along with the number of unique customers who bought them..\")\n",
    "result = llm.invoke(prompt)\n",
    "print(result.content)"
   ]
  },
  {
   "cell_type": "code",
   "execution_count": 13,
   "id": "c0107ac1",
   "metadata": {},
   "outputs": [
    {
     "name": "stdout",
     "output_type": "stream",
     "text": [
      "SELECT p.name, SUM(oi.quantity * oi.price) AS total_revenue FROM Products p JOIN OrderItems oi ON p.product_id = oi.product_id GROUP BY p.name\n"
     ]
    }
   ],
   "source": [
    "prompt = template.format(dialect=\"MySQL\",schema=schema, input=\"Find the total revenue generated per product.\")\n",
    "result = llm.invoke(prompt)\n",
    "print(result.content)"
   ]
  },
  {
   "cell_type": "code",
   "execution_count": 10,
   "id": "5b7928fd",
   "metadata": {},
   "outputs": [
    {
     "name": "stdout",
     "output_type": "stream",
     "text": [
      "NAME                   ID              SIZE      MODIFIED     \n",
      "mistral:7b             6577803aa9a0    4.4 GB    17 hours ago    \n",
      "granite3.1-dense:2b    fba1ad01113e    1.6 GB    2 weeks ago     \n",
      "gemma3:270m            e7d36fb2c3b3    291 MB    2 weeks ago     \n",
      "llama3.2:latest        a80c4f17acd5    2.0 GB    3 weeks ago     \n"
     ]
    }
   ],
   "source": [
    "!ollama list"
   ]
  },
  {
   "cell_type": "code",
   "execution_count": null,
   "id": "2e996c34",
   "metadata": {},
   "outputs": [],
   "source": []
  }
 ],
 "metadata": {
  "kernelspec": {
   "display_name": "hello",
   "language": "python",
   "name": "python3"
  },
  "language_info": {
   "codemirror_mode": {
    "name": "ipython",
    "version": 3
   },
   "file_extension": ".py",
   "mimetype": "text/x-python",
   "name": "python",
   "nbconvert_exporter": "python",
   "pygments_lexer": "ipython3",
   "version": "3.12.0"
  }
 },
 "nbformat": 4,
 "nbformat_minor": 5
}
